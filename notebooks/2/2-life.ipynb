{
 "cells": [
  {
   "cell_type": "markdown",
   "metadata": {},
   "source": [
    "# Simulating Life"
   ]
  },
  {
   "cell_type": "code",
   "execution_count": 1,
   "metadata": {},
   "outputs": [],
   "source": [
    "import random\n",
    "import time\n",
    "from matplotlib import pyplot as plt\n",
    "from IPython.display import clear_output"
   ]
  },
  {
   "cell_type": "code",
   "execution_count": 2,
   "metadata": {},
   "outputs": [],
   "source": [
    "def create_cell():\n",
    "    return dict(health=random.randint(1, 100))"
   ]
  },
  {
   "cell_type": "code",
   "execution_count": 3,
   "metadata": {},
   "outputs": [],
   "source": [
    "def birth(offspring):\n",
    "    return [create_cell() for _ in range(offspring)]"
   ]
  },
  {
   "cell_type": "code",
   "execution_count": 4,
   "metadata": {},
   "outputs": [],
   "source": [
    "RPRD_RATE = 25\n",
    "\n",
    "def reproduce(cells):\n",
    "    return [create_cell() for cell in cells if random.randint(1, 100) < RPRD_RATE]"
   ]
  },
  {
   "cell_type": "code",
   "execution_count": 5,
   "metadata": {},
   "outputs": [],
   "source": [
    "DEATH_RATE = 25\n",
    "\n",
    "def death(cells):\n",
    "    return [cell for cell in cells if random.randint(1, 100) > DEATH_RATE]"
   ]
  },
  {
   "cell_type": "code",
   "execution_count": 6,
   "metadata": {},
   "outputs": [],
   "source": [
    "def run_generation(cells):\n",
    "    cells.extend(reproduce(cells))\n",
    "    return death(cells)"
   ]
  },
  {
   "cell_type": "code",
   "execution_count": 12,
   "metadata": {},
   "outputs": [
    {
     "data": {
      "image/png": "[encoded data removed]",
      "text/plain": [
       "<Figure size 640x480 with 1 Axes>"
      ]
     },
     "metadata": {},
     "output_type": "display_data"
    }
   ],
   "source": [
    "GENERATIONS = 10\n",
    "INITIAL_OFFSPRING = 10\n",
    "REPRODUCTION_RATE = 50\n",
    "DEATH_RATE = 25\n",
    "\n",
    "cells = birth(INITIAL_OFFSPRING)\n",
    "\n",
    "history = []\n",
    "\n",
    "for _ in range(GENERATIONS):\n",
    "    cells = run_generation(cells)\n",
    "    \n",
    "    history.append(len(cells))\n",
    "    \n",
    "    clear_output()\n",
    "    \n",
    "    plt.plot(history)\n",
    "    \n",
    "    plt.show()\n",
    "    \n",
    "    time.sleep(.5)"
   ]
  }
 ],
 "metadata": {
  "kernelspec": {
   "display_name": "Python 3 (ipykernel)",
   "language": "python",
   "name": "python3"
  },
  "language_info": {
   "codemirror_mode": {
    "name": "ipython",
    "version": 3
   },
   "file_extension": ".py",
   "mimetype": "text/x-python",
   "name": "python",
   "nbconvert_exporter": "python",
   "pygments_lexer": "ipython3",
   "version": "3.11.6"
  }
 },
 "nbformat": 4,
 "nbformat_minor": 2
}
